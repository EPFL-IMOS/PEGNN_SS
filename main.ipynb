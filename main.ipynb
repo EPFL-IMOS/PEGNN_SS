{
 "cells": [
  {
   "cell_type": "code",
   "execution_count": 1,
   "id": "d08ea544-0986-47d3-895a-31efbdbf36eb",
   "metadata": {},
   "outputs": [],
   "source": [
    "from pathlib import Path\n",
    "import argparse\n",
    "import time\n",
    "\n",
    "import torch\n",
    "import random\n",
    "\n",
    "\n",
    "from utils import *\n",
    "from model import *\n",
    "from train_test import *\n",
    "\n",
    "import warnings\n",
    "warnings.filterwarnings(\"ignore\")"
   ]
  },
  {
   "cell_type": "code",
   "execution_count": 2,
   "id": "f9be1a45-f994-4818-a419-c1b022edb3bb",
   "metadata": {},
   "outputs": [],
   "source": [
    "def get_arguments():\n",
    "    parser = argparse.ArgumentParser(description=\"Physics-Enhanced GNN for Soft Sensing\", \n",
    "                                     add_help=False)\n",
    "\n",
    "    # Data\n",
    "    parser.add_argument(\"--data-dir\", type=str, default=\"data/\",\n",
    "                        help='Path to the data')\n",
    "\n",
    "    # Checkpoints\n",
    "    parser.add_argument(\"--exp-dir\", type=Path, default=\"exp/\",\n",
    "                        help='Path to the experiment folder, where all logs/checkpoints will be stored')\n",
    "\n",
    "    # Optim\n",
    "    parser.add_argument(\"--seed\", type=int, default=42,\n",
    "                        help='Seed for experiments')\n",
    "    parser.add_argument(\"--epochs\", type=int, default=25000,\n",
    "                        help='Number of epochs')\n",
    "    parser.add_argument(\"--batch-size\", type=int, default=64,\n",
    "                        help='Batch size')\n",
    "    parser.add_argument(\"--base-lr\", type=float, default=3e-4,\n",
    "                        help='Base Learning rate')\n",
    "    parser.add_argument(\"--window-size\", type=int, default=8,\n",
    "                        help='Window Size')\n",
    "    parser.add_argument(\"--patience\", type=int, default=200,\n",
    "                        help='patience for early stopping')\n",
    "\n",
    "    # Running\n",
    "    parser.add_argument(\"--num-workers\", type=int, default=1)\n",
    "    parser.add_argument('--device', default='cuda:1',\n",
    "                        help='device to use for training / testing')\n",
    "                        \n",
    "    return parser"
   ]
  },
  {
   "cell_type": "code",
   "execution_count": 3,
   "id": "45063b9f-79ad-49d4-a28c-0c209b893aa9",
   "metadata": {},
   "outputs": [],
   "source": [
    "def seed_everything(seed = 0):\n",
    "    r\"\"\"Sets the seed for generating random numbers in :pytorch:`PyTorch`,\n",
    "    :obj:`numpy` and Python.\n",
    "\n",
    "    Args:\n",
    "        seed (int): The desired seed.\n",
    "    \"\"\"\n",
    "    random.seed(seed)\n",
    "    os.environ['PYTHONHASHSEED'] = str(seed)\n",
    "    np.random.seed(seed)\n",
    "    torch.manual_seed(seed)\n",
    "    torch.cuda.manual_seed(seed)\n",
    "    torch.cuda.manual_seed_all(seed) # if you are using multi-GPU.\n",
    "    torch.backends.cudnn.benchmark = False\n",
    "    torch.backends.cudnn.deterministic = True"
   ]
  },
  {
   "cell_type": "code",
   "execution_count": 4,
   "id": "b9f47d84-08cc-44e0-b4e5-1479074212a0",
   "metadata": {},
   "outputs": [],
   "source": [
    "def mains(args):\n",
    "    device = args.device if torch.cuda.is_available() else 'cpu'\n",
    "\n",
    "    df = pd.read_csv('Data/df_sensors.csv')\n",
    "    df_physics = pd.read_csv('Data/df_physics.csv')\n",
    "\n",
    "    df_X_train, df_y_train, df_X_val, df_y_val, df_X_test, df_y_test = split_dataframe(df, df_physics, train_ratio=0.8, val_ratio=0.1, mode='physics-enhanced')\n",
    "\n",
    "    \n",
    "    #Create Dataset\n",
    "    PyG_Data_Train = construct_pyg_data(df_X_train, df_y_train, device)\n",
    "    PyG_Data_Val = construct_pyg_data(df_X_val, df_y_val, device)\n",
    "    PyG_Data_Test = construct_pyg_data(df_X_test, df_y_test, device)\n",
    "    \n",
    "    #Create Dataloader\n",
    "    Train_DATA = graph_dataloader(PyG_Data_Train, batch_size = 64, shuffle = False, drop_last = True)\n",
    "    Validation_DATA = graph_dataloader(PyG_Data_Val, batch_size = 64, shuffle = False, drop_last = True)\n",
    "    Test_DATA = graph_dataloader(PyG_Data_Test, shuffle = False)\n",
    "    \n",
    "    #define Model\n",
    "    model = GNNModel().to(device)\n",
    "\n",
    "    trained_model = train_gnn_model(model, Train_DATA, Validation_DATA, device = device, window_size = args.window_size, patience = args.patience, EPOCHS = args.epochs, lr = args.base_lr)\n",
    "    preds_list, targets_list, mse = test_gnn_model(trained_model, Test_DATA, window_size = args.window_size, device = device)"
   ]
  },
  {
   "cell_type": "code",
   "execution_count": null,
   "id": "aec5ee1c-d72d-4c87-b4f8-fd967e2f8e96",
   "metadata": {},
   "outputs": [],
   "source": [
    "if __name__ == \"__main__\":\n",
    "    parser = argparse.ArgumentParser(parents=[get_arguments()])\n",
    "    args = parser.parse_args([])\n",
    "    \n",
    "    seed_everything(args.seed)\n",
    "    mains(args)"
   ]
  }
 ],
 "metadata": {
  "kernelspec": {
   "display_name": "Python 3 (ipykernel)",
   "language": "python",
   "name": "python3"
  },
  "language_info": {
   "codemirror_mode": {
    "name": "ipython",
    "version": 3
   },
   "file_extension": ".py",
   "mimetype": "text/x-python",
   "name": "python",
   "nbconvert_exporter": "python",
   "pygments_lexer": "ipython3",
   "version": "3.10.6"
  }
 },
 "nbformat": 4,
 "nbformat_minor": 5
}
